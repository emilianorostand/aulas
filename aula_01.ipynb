{
  "nbformat": 4,
  "nbformat_minor": 0,
  "metadata": {
    "colab": {
      "provenance": [],
      "authorship_tag": "ABX9TyN3mUr6cpJHqNTHiqBEnnbj",
      "include_colab_link": true
    },
    "kernelspec": {
      "name": "python3",
      "display_name": "Python 3"
    },
    "language_info": {
      "name": "python"
    }
  },
  "cells": [
    {
      "cell_type": "markdown",
      "metadata": {
        "id": "view-in-github",
        "colab_type": "text"
      },
      "source": [
        "<a href=\"https://colab.research.google.com/github/emilianorostand/aulas/blob/main/aula_01.ipynb\" target=\"_parent\"><img src=\"https://colab.research.google.com/assets/colab-badge.svg\" alt=\"Open In Colab\"/></a>"
      ]
    },
    {
      "cell_type": "markdown",
      "metadata": {
        "id": "XHpNd7bSH--d"
      },
      "source": [
        "#**1ª AULA - conceitos básicos: operadores e operações**"
      ]
    },
    {
      "cell_type": "markdown",
      "metadata": {
        "id": "_1fyF7bsP-wy"
      },
      "source": [
        "## Olá Essa é nossa primeira aula de programação. Estamos utilizando o COLAB, este ambiente é bastante versátil.\n",
        "\n",
        "COLAB trabalha com o conceito de células (Texto ou Código)\n",
        "\n",
        "Obs.: Para executar uma célula de código **CTRL** + **ENTER**\n",
        "\n",
        "**OPERADOR DE ATRIBUIÇÃO (=)**\n",
        "\n",
        "\n",
        "> identificador da variável = valor\n",
        "\n",
        "**COMANDO DE ESCRITA**\n",
        "\n",
        "> *print( )*\n",
        "\n",
        "DELIMITADORES DE STRINGS (Literais)\n",
        "\n",
        "> **Aspas simples ou duplas**\n",
        "\n",
        "'Curso Técnico de Informática'\n",
        "\n",
        "\"Hoje é dia dos professores\"\n",
        "\n",
        "\n",
        "**OPERADORES ARITMÉTICOS**\n",
        "\n",
        "> \"+\" *adição*\n",
        "\n",
        "> '-' *subtração*\n",
        "\n",
        "> '**' multiplicação*\n",
        "\n",
        "> '/' *divisão*\n",
        "\n",
        "> '***' exponenciação*\n",
        "\n",
        "Obs.: O separador de casas decimais é o **ponto decimal**\n",
        "\n",
        "> ex.: ***3.1415 (real)***\n",
        "\n",
        "**OPERAÇÕES COM INTEIROS**\n",
        "\n",
        "> RESTO DA DIVISÃO INTEIRA  \"%\" (DIV)\n",
        "\n",
        "> DIVISÃO INTEIRA \"//\" (MOD)\n"
      ]
    },
    {
      "cell_type": "code",
      "metadata": {
        "colab": {
          "base_uri": "https://localhost:8080/"
        },
        "id": "VfQOAmugP2L6",
        "outputId": "d5006ca1-a7af-4034-ca34-ba4f39d21e8f"
      },
      "source": [
        "a = 56\n",
        "print(a)\n",
        "\n",
        "print(500)\n",
        "\n",
        "print(\"Hoje é dia dos professores!\")\n",
        "\n",
        "print( 'Hoje ele acordou tão \"tranquilo\".')\n",
        "\n",
        "b = 32\n",
        "\n",
        "c = a + b\n",
        "\n",
        "print (c)\n",
        "\n",
        "print( a + b )\n",
        "\n",
        "print('a + b =', c)\n",
        "print('a - b =', a - b)\n",
        "print('a x b =', a * b)\n",
        "print('a / b =', a / b)\n",
        "print('a DIV b =', a % b)\n",
        "print( 'a MOD b =', a // b)\n",
        "print( 3 ** 2 )"
      ],
      "execution_count": null,
      "outputs": [
        {
          "output_type": "stream",
          "name": "stdout",
          "text": [
            "56\n",
            "500\n",
            "Hoje é dia dos professores!\n",
            "Hoje ele acordou tão \"tranquilo\".\n",
            "88\n",
            "88\n",
            "a + b = 88\n",
            "a - b = 24\n",
            "a x b = 1792\n",
            "a / b = 1.75\n",
            "a DIV b = 24\n",
            "a MOD b = 1\n",
            "9\n"
          ]
        }
      ]
    },
    {
      "cell_type": "markdown",
      "metadata": {
        "id": "BkPwjstOZr6N"
      },
      "source": [
        "**OPERADORES RELACIONAIS**\n",
        "\n",
        "* '>' *maior que*\n",
        "* '<' *nenor que*\n",
        "* '>=' *maior ou igual a*\n",
        "* '<=' *menor ou igual a*\n",
        "* '==' *igualdade*\n",
        "* '!=' *desgualdade*\n",
        "\n",
        "**OPERADORES LÓGIGOS**\n",
        "\n",
        "* *NOT* (negação)\n",
        "* *AND* (conjunção - e)\n",
        "* *OR* (disjunção lógica - ou)"
      ]
    },
    {
      "cell_type": "markdown",
      "metadata": {
        "id": "mfsP7P0IYc3R"
      },
      "source": [
        "x = 2\n",
        "\n",
        "y = 3\n",
        "\n",
        "z = 3\n",
        "\n",
        "w = x + y + z\n",
        "\n",
        "\n",
        "print ((c > w ) or (y >= b) or ( z != y ))\n"
      ]
    },
    {
      "cell_type": "code",
      "metadata": {
        "colab": {
          "base_uri": "https://localhost:8080/"
        },
        "id": "QRD-atq7Jnfe",
        "outputId": "d8529619-34f3-4e93-aa9b-94d01ebf6ede"
      },
      "source": [
        "x = 2\n",
        "\n",
        "y = 3\n",
        "\n",
        "z = 3\n",
        "\n",
        "w = x + y + z\n",
        "\n",
        "print ((c > w ) or (y >= b) or ( z != y ))"
      ],
      "execution_count": null,
      "outputs": [
        {
          "output_type": "stream",
          "name": "stdout",
          "text": [
            "True\n"
          ]
        }
      ]
    }
  ]
}