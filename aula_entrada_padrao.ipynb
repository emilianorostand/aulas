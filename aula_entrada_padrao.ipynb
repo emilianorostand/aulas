{
  "nbformat": 4,
  "nbformat_minor": 0,
  "metadata": {
    "colab": {
      "provenance": [],
      "authorship_tag": "ABX9TyOR/aqlw64zrWSqI92Hpxv3",
      "include_colab_link": true
    },
    "kernelspec": {
      "name": "python3",
      "display_name": "Python 3"
    },
    "language_info": {
      "name": "python"
    }
  },
  "cells": [
    {
      "cell_type": "markdown",
      "metadata": {
        "id": "view-in-github",
        "colab_type": "text"
      },
      "source": [
        "<a href=\"https://colab.research.google.com/github/emilianorostand/aulas/blob/main/aula_entrada_padrao.ipynb\" target=\"_parent\"><img src=\"https://colab.research.google.com/assets/colab-badge.svg\" alt=\"Open In Colab\"/></a>"
      ]
    },
    {
      "cell_type": "markdown",
      "metadata": {
        "id": "weq1Uokv_GCi"
      },
      "source": [
        "# **Usando o comando: input()**\n",
        "\n",
        "O comando **input()** tem como função ler um valor de entrada que foi digitado pelo usuário. Note que ele só faz sentido prático se este valor for atribuido a uma variável.\n",
        "\n",
        "\n",
        "> nome = input('Digite seu nome: ')\n",
        "\n",
        "\n",
        "O ***input( )*** sempre retorna uma string (*um literal*), independentemente, do tipo de dado digitado. Caso seja necessário obter um valor diferente de string, devemos usar as funções de conversão de tipos, com por exemplo, para converter para numéros: **int( )** e **float( )**\n",
        "\n",
        "> nota = **float(**   input('Digite o valor da nota da prova: ')   **)**\n",
        "\n"
      ]
    },
    {
      "cell_type": "code",
      "metadata": {
        "colab": {
          "base_uri": "https://localhost:8080/"
        },
        "id": "jCLGsSTvR0x8",
        "outputId": "c071a145-c9be-4e10-ce09-891731bcf396"
      },
      "source": [
        "num = int (input('Digite um número inteiro: ') )\n",
        "print ( num + 1 )"
      ],
      "execution_count": null,
      "outputs": [
        {
          "output_type": "stream",
          "name": "stdout",
          "text": [
            "Digite um número inteiro: 55\n",
            "56\n"
          ]
        }
      ]
    },
    {
      "cell_type": "markdown",
      "metadata": {
        "id": "gqZ9kpXeTU3K"
      },
      "source": [
        "Exemplo 1: Faça um programa que leia dois valores inteiros para as variáveis ***N1*** e ***N2***. Imprima na saída padrão os\n",
        "valores armazenados em ***N1*** e ***N2***, respectivamente. Em seguida, troque os valores de N1 com N2 e mais\n",
        "uma vez imprima seus valores na saída padrão."
      ]
    },
    {
      "cell_type": "code",
      "metadata": {
        "colab": {
          "base_uri": "https://localhost:8080/"
        },
        "id": "H1Tn4-YcTnT6",
        "outputId": "41dfd9bf-e06a-48ec-bd1a-4e90c182a962"
      },
      "source": [
        "# Informa o que o programa faz...\n",
        "print('Este programa troca o valor de dois números armazenados em duas variáveis!')\n",
        "\n",
        "# Lê para as variáveis os valores numéricos...\n",
        "n1 = int(input('Digite o valor do primeiro número: '))\n",
        "n2 = int(input('Digite o valor do segundo número: '))\n",
        "\n",
        "# Exibe os valores das variáveis\n",
        "# print('O valor da primeira variável é ' + str(n1) + ' e o valor da segunda variável é ' + str(n2) + '.' )\n",
        "print('O valor da primeira variável é {} e o valor da segunda variável é {}!'.format(n1, n2) )\n",
        "\n",
        "# Troca dos conteúdos...\n",
        "tmp = n1\n",
        "n1  = n2\n",
        "n2  = tmp\n",
        "\n",
        "# Exibe os valores das variáveis\n",
        "# print('O valor da primeira variável é ' + str(n1) + ' e o valor da segunda variável é ' + str(n2) + '.' )\n",
        "print('O valor da primeira variável é {} e o valor da segunda variável é {}!'.format(n1, n2) )"
      ],
      "execution_count": null,
      "outputs": [
        {
          "output_type": "stream",
          "name": "stdout",
          "text": [
            "Este programa troca o valor de dois números armazenados em duas variáveis!\n",
            "Digite o valor do primeiro número: 45\n",
            "Digite o valor do segundo número: 23\n",
            "O valor da primeira variável é 45 e o valor da segunda variável é  23!\n",
            "O valor da primeira variável é 23 e o valor da segunda variável é  45!\n"
          ]
        }
      ]
    },
    {
      "cell_type": "markdown",
      "metadata": {
        "id": "dDsSN6gmW_oy"
      },
      "source": [
        "Exemplo 2: Faça um programa que receba o valor do **salário mínimo**, **número de horas trabalhadas** e o número de **horas extras** trabalhadas por um funcionário. Calcule e mostre o **valor do salário a receber** desse\n",
        "funcionário sabendo que:\n",
        "* O valor da **hora trabalhada** é equivalente 1/220 do salário mínimo.\n",
        "* O valor da **hora extra** é o **valor da hora** trabalhada acrescido de 50%.\n",
        "* O valor do **salário bruto** equivale a multiplicação das **horas trabalhadas** pelo **valor da hora trabalhada**.\n",
        "* O valor do **adicional** pelo trabalho extra equivale a multiplicação da quantidade de **horas extras trabalhadas** pelo valor da **hora extra**.\n",
        "* O valor do salário a receber equivale a soma do **salário bruto** e o **adicional** pelo trabalho extra."
      ]
    },
    {
      "cell_type": "code",
      "metadata": {
        "colab": {
          "base_uri": "https://localhost:8080/"
        },
        "id": "M9d4gve8YdnR",
        "outputId": "8f4df80c-579a-477d-ae7b-fddddf5142d6"
      },
      "source": [
        "# Entrada dos dados...\n",
        "salarioMinimo = float(input('Digite o valor salário mínimo em Reais: R$ '))\n",
        "hrsTrabalhadas = int(input('Digite o número de horas trabalhadas pelo funcionário: '))\n",
        "hrsExtras = int( input ('Digite o número de horas extras trabalhadas pelo funcionário: '))\n",
        "\n",
        "# Processamento...\n",
        "valorHoraTrabalhada = salarioMinimo / 220\n",
        "salarioBruto = hrsTrabalhadas * valorHoraTrabalhada\n",
        "valorHoraExtra = valorHoraTrabalhada * 1.5\n",
        "adicional = hrsExtras * valorHoraExtra\n",
        "salario = salarioBruto + adicional\n",
        "\n",
        "# Saída de informações...\n",
        "print('O valor a receber pelo funcionário é: R$ ' + str(salario))\n"
      ],
      "execution_count": null,
      "outputs": [
        {
          "output_type": "stream",
          "name": "stdout",
          "text": [
            "Digite o valor salário mínimo em Reais: R$ 1192.40\n",
            "Digite o número de horas trabalhadas pelo funcionário: 180\n",
            "Digite o número de horas extras trabalhadas pelo funcionário: 8\n",
            "O valor a receber pelo funcionário é: R$ 1040.64\n"
          ]
        }
      ]
    }
  ]
}